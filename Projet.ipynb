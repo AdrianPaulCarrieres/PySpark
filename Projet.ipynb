{
 "cells": [
  {
   "cell_type": "markdown",
   "id": "57b4552e",
   "metadata": {},
   "source": [
    "# Projet"
   ]
  },
  {
   "cell_type": "markdown",
   "id": "afbb5b69",
   "metadata": {},
   "source": [
    "## Importing Pyspark libs & reading files"
   ]
  },
  {
   "cell_type": "code",
   "execution_count": null,
   "id": "94cc7391",
   "metadata": {},
   "outputs": [
    {
     "name": "stderr",
     "output_type": "stream",
     "text": [
      "WARNING: An illegal reflective access operation has occurred\n",
      "WARNING: Illegal reflective access by org.apache.spark.unsafe.Platform (file:/usr/local/spark-3.2.0-bin-hadoop3.2/jars/spark-unsafe_2.12-3.2.0.jar) to constructor java.nio.DirectByteBuffer(long,int)\n",
      "WARNING: Please consider reporting this to the maintainers of org.apache.spark.unsafe.Platform\n",
      "WARNING: Use --illegal-access=warn to enable warnings of further illegal reflective access operations\n",
      "WARNING: All illegal access operations will be denied in a future release\n",
      "Using Spark's default log4j profile: org/apache/spark/log4j-defaults.properties\n",
      "Setting default log level to \"WARN\".\n",
      "To adjust logging level use sc.setLogLevel(newLevel). For SparkR, use setLogLevel(newLevel).\n",
      "22/02/14 08:41:05 WARN NativeCodeLoader: Unable to load native-hadoop library for your platform... using builtin-java classes where applicable\n"
     ]
    }
   ],
   "source": [
    "from pyspark.sql import SparkSession\n",
    "from pyspark.sql.functions import *\n",
    "from pyspark.sql.types import *\n",
    "\n",
    "spark = SparkSession.builder.appName('abc').getOrCreate()\n",
    "\n",
    "df1=spark.read.format(\"csv\").option(\"header\",\"true\").option(\"inferSchema\",\"true\").load('ApplePrices.csv')\n",
    "\n",
    "df2=spark.read.format(\"csv\").option(\"header\",\"true\").option(\"inferSchema\",\"true\").load('CurrencyConversion.csv')\n",
    "\n",
    "df1.show()\n",
    "\n",
    "df2.show()"
   ]
  },
  {
   "cell_type": "markdown",
   "id": "ce61d2bc",
   "metadata": {},
   "source": [
    "## Join the dataframes & conversion\n",
    "Firt we need to create a join expression on our two dataframe on the sole link they share: the currency/ISO_4217 designation of the currency.\n",
    "That will give us a new dataframe with line by line comparison between the original price in each country and the dollar to currency ratio."
   ]
  },
  {
   "cell_type": "code",
   "execution_count": null,
   "id": "072fc776",
   "metadata": {},
   "outputs": [],
   "source": [
    "join_express = df1[\"Currency\"] == df2[\"ISO_4217\"]\n",
    "joined = df1.join(df2, join_express, \"inner\")"
   ]
  },
  {
   "cell_type": "markdown",
   "id": "759f1000",
   "metadata": {},
   "source": [
    "We will then create a new column containing the converted dollar price for each product."
   ]
  },
  {
   "cell_type": "code",
   "execution_count": null,
   "id": "f7ff2f2a",
   "metadata": {},
   "outputs": [],
   "source": [
    "joined_and_converted_prices = joined.withColumn(\"Dollar Prices\", round(expr(\"Price / Dollar_To_Curr_Ratio\"), 2))\n",
    "joined_and_converted_prices.show()"
   ]
  },
  {
   "cell_type": "markdown",
   "id": "4e47ee62",
   "metadata": {},
   "source": [
    "A little cleaning of the duplicates/useless columns later."
   ]
  },
  {
   "cell_type": "code",
   "execution_count": null,
   "id": "6028ab5f",
   "metadata": {},
   "outputs": [],
   "source": [
    "joined_and_converted_prices = joined_and_converted_prices.drop(\"ISO_4217\").drop(\"Dollar_To_Curr_Ratio\")\n",
    "joined_and_converted_prices.show(1000)"
   ]
  },
  {
   "cell_type": "markdown",
   "id": "37e07e34",
   "metadata": {},
   "source": [
    "## That average question\n",
    "For comprehension and handling I decided to clean (drop/rename) columns of my dataframe.\n",
    "The idea will be create a USA products only dataframe and then to join on the model name column to get line by line a comparison between a product in a country and its price in the United States."
   ]
  },
  {
   "cell_type": "code",
   "execution_count": null,
   "id": "b12691c9",
   "metadata": {},
   "outputs": [],
   "source": [
    "cleaned_version = joined_and_converted_prices\\\n",
    ".drop(\"Price\")\\\n",
    ".drop(\"Currency\")\n",
    "cleaned_version.show()"
   ]
  },
  {
   "cell_type": "code",
   "execution_count": null,
   "id": "35a78bc4",
   "metadata": {},
   "outputs": [],
   "source": [
    "usa = joined_and_converted_prices.filter(\"Country = 'United States'\")\\\n",
    ".drop(\"Country\")\\\n",
    ".drop(\"Currency\")\\\n",
    ".drop(\"Price\")\\\n",
    ".withColumnRenamed(\"Dollar Prices\", \"USA_Prices\")\\\n",
    ".withColumnRenamed(\"Model_name\", \"Model\")\n",
    "usa.show()"
   ]
  },
  {
   "cell_type": "code",
   "execution_count": null,
   "id": "e9f424ac",
   "metadata": {},
   "outputs": [],
   "source": [
    "join_express = cleaned_version[\"Model_name\"] == usa[\"Model\"]\n",
    "joined = cleaned_version.join(usa, join_express, \"inner\").drop(\"Model\")\n",
    "joined.show()"
   ]
  },
  {
   "cell_type": "code",
   "execution_count": null,
   "id": "dddf82ec",
   "metadata": {
    "scrolled": true
   },
   "outputs": [],
   "source": [
    "avg_prices = joined.groupBy(\"Country\")\\\n",
    ".avg(\"Dollar Prices\", \"USA_PRICES\")\\\n",
    ".sort(\"Country\")\\\n",
    ".select(\"Country\", round(\"`avg(Dollar Prices)`\", 2), round(\"`avg(USA_PRICES)`\", 2)) \\\n",
    ".withColumnRenamed(\"round(avg(Dollar Prices), 2)\", \"Moyenne\")\\\n",
    ".withColumnRenamed(\"round(avg(USA_PRICES), 2)\", \"Moyenne aux USA\")\n",
    "avg_prices.show(100)"
   ]
  },
  {
   "cell_type": "code",
   "execution_count": null,
   "id": "67765b3e",
   "metadata": {},
   "outputs": [],
   "source": [
    "moyennePrix = avg_prices.withColumn(\"Ecart entre la moyenne et celle des USA(%)\", round(expr(f\"(abs(Moyenne) - `Moyenne aux USA`)/ `Moyenne aux USA` * 100\"), 2))\\\n",
    ".sort(desc(\"Ecart entre la moyenne et celle des USA(%)\"))\n",
    "moyennePrix.show(100)"
   ]
  },
  {
   "cell_type": "code",
   "execution_count": null,
   "id": "b1d018ea",
   "metadata": {},
   "outputs": [],
   "source": [
    "moyennePrix.repartition(1).write.mode(\"overwrite\").format(\"csv\").option(\"header\", \"true\").save(\"moyennePrix\")"
   ]
  },
  {
   "cell_type": "markdown",
   "id": "dc83558e",
   "metadata": {},
   "source": [
    "## Sum"
   ]
  },
  {
   "cell_type": "code",
   "execution_count": null,
   "id": "cf890052",
   "metadata": {},
   "outputs": [],
   "source": [
    "total_count = joined_and_converted_prices.groupBy(\"Country\")\\\n",
    ".agg({\"Dollar Prices\": \"sum\"})\\\n",
    ".select(\"Country\", round(\"sum(Dollar Prices)\", 2))\\\n",
    ".withColumnRenamed(\"round(sum(Dollar Prices), 2)\", \"Somme des produits\")\\\n",
    ".sort(desc(\"sum(Dollar Prices)\"))\\\n",
    "\n",
    "total_count.show(1000)\n",
    "total_count.repartition(1).write.mode(\"overwrite\").format(\"csv\").option(\"header\", \"true\").save(\"cout_total\")"
   ]
  },
  {
   "cell_type": "markdown",
   "id": "9341efa0",
   "metadata": {},
   "source": [
    "## Liste des produits"
   ]
  },
  {
   "cell_type": "code",
   "execution_count": null,
   "id": "80feaa3d",
   "metadata": {},
   "outputs": [],
   "source": [
    "product_list = df1.dropDuplicates([\"Model_name\"]).sort(\"Model_name\")\n",
    "product_list.show(1000)\n",
    "product_list.repartition(1).write.mode(\"overwrite\").format(\"csv\").option(\"header\", \"true\").save(\"listeProduit\")"
   ]
  },
  {
   "cell_type": "markdown",
   "id": "ae129299",
   "metadata": {},
   "source": [
    "## Pays le moins cher pour acheter les AirPods Pro"
   ]
  },
  {
   "cell_type": "code",
   "execution_count": null,
   "id": "3b3cad7b",
   "metadata": {},
   "outputs": [],
   "source": [
    "airpodsPro = joined_and_converted_prices.filter(\"Model_name == 'AirPods Pro'\").sort(asc(\"Dollar Prices\")).limit(1)\n",
    "airpodsPro.show()"
   ]
  },
  {
   "cell_type": "code",
   "execution_count": null,
   "id": "1ffe5b27",
   "metadata": {},
   "outputs": [],
   "source": [
    "airpodsPro.repartition(1).write.mode(\"overwrite\").format(\"csv\").option(\"header\", \"true\").save(\"airpodsPro\")"
   ]
  }
 ],
 "metadata": {
  "kernelspec": {
   "display_name": "Python 3 (ipykernel)",
   "language": "python",
   "name": "python3"
  },
  "language_info": {
   "codemirror_mode": {
    "name": "ipython",
    "version": 3
   },
   "file_extension": ".py",
   "mimetype": "text/x-python",
   "name": "python",
   "nbconvert_exporter": "python",
   "pygments_lexer": "ipython3",
   "version": "3.9.7"
  }
 },
 "nbformat": 4,
 "nbformat_minor": 5
}
